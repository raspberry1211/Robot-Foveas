{
 "cells": [
  {
   "cell_type": "code",
   "execution_count": null,
   "id": "6fe07800",
   "metadata": {},
   "outputs": [],
   "source": [
    "import torch\n",
    "import torch.optim as optim\n",
    "import torch.nn.functional as F\n",
    "import torchvision\n",
    "import torchvision.datasets as datasets\n",
    "import torchvision.models as models\n",
    "import torchvision.transforms as transforms\n",
    "# Added\n",
    "from FovConvNeXt.models import make_model"
   ]
  },
  {
   "cell_type": "code",
   "execution_count": null,
   "id": "9b317757",
   "metadata": {},
   "outputs": [],
   "source": [
    "dataset = datasets.ImageFolder(\n",
    "    'dataset',\n",
    "    transforms.Compose([\n",
    "        transforms.Resize((224, 224)),\n",
    "        transforms.ToTensor(),\n",
    "        transforms.Normalize([0.485, 0.456, 0.406], [0.229, 0.224, 0.225])\n",
    "    ])\n",
    ")"
   ]
  },
  {
   "cell_type": "code",
   "execution_count": null,
   "id": "c3d43c0e",
   "metadata": {},
   "outputs": [],
   "source": [
    "test, rest = torch.utils.data.random_split(dataset, [10, len(dataset) - 10])"
   ]
  },
  {
   "cell_type": "code",
   "execution_count": null,
   "id": "b0cff8b3",
   "metadata": {},
   "outputs": [],
   "source": [
    "loader = torch.utils.data.DataLoader(\n",
    "    test,\n",
    "    batch_size=10,\n",
    "    shuffle=False,\n",
    "    num_workers=0,\n",
    ")"
   ]
  },
  {
   "cell_type": "code",
   "execution_count": null,
   "id": "9cf9bd48",
   "metadata": {},
   "outputs": [],
   "source": [
    "import matplotlib.pyplot as plt\n",
    "import numpy as np\n",
    "\n",
    "def imshow(img):\n",
    "    img = img.clone()\n",
    "    mean = torch.tensor([0.485, 0.456, 0.406]).view(3, 1, 1)\n",
    "    std = torch.tensor([0.229, 0.224, 0.225]).view(3, 1, 1)\n",
    "    img = img * std + mean\n",
    "    npimg = img.numpy()\n",
    "    npimg = np.transpose(npimg, (1, 2, 0))\n",
    "    plt.imshow(npimg)\n",
    "    plt.show()\n"
   ]
  },
  {
   "cell_type": "code",
   "execution_count": null,
   "id": "c71f2707",
   "metadata": {},
   "outputs": [],
   "source": [
    "thems = iter(loader)\n",
    "images, labels = next(thems)\n",
    "imshow(torchvision.utils.make_grid(images, nrow=5))\n",
    "print(' '.join(f'{dataset.classes[labels[j]]:5s}' for j in range(10)))\n"
   ]
  },
  {
   "cell_type": "code",
   "execution_count": null,
   "id": "a707a102",
   "metadata": {},
   "outputs": [],
   "source": [
    "# Unfoveated parameters\n",
    "n_fixations = 1\n",
    "radius = 0\n",
    "block_sigma = 0.8\n",
    "block_max_ord = 4\n",
    "patch_sigma = 1.0\n",
    "patch_max_ord = 4\n",
    "ds_sigma = 0.6\n",
    "ds_max_ord = 0\n",
    "\n",
    "unfovea = make_model(\n",
    "        n_fixations=n_fixations,\n",
    "        n_classes=100,  # Use full 100 classes\n",
    "        radius=radius,\n",
    "        block_sigma=block_sigma,\n",
    "        block_max_ord=block_max_ord,\n",
    "        patch_sigma=patch_sigma,\n",
    "        patch_max_ord=patch_max_ord,\n",
    "        ds_sigma=ds_sigma,\n",
    "        ds_max_ord=ds_max_ord\n",
    "    )\n",
    "unfovea.load_state_dict(torch.load('best_model_unfoveated.pth')['model_state_dict'])"
   ]
  },
  {
   "cell_type": "code",
   "execution_count": null,
   "id": "ff961d5b",
   "metadata": {},
   "outputs": [],
   "source": [
    "# Foveated parameters\n",
    "n_fixations = 1\n",
    "radius = 0.4\n",
    "block_sigma = 0.8\n",
    "block_max_ord = 4\n",
    "patch_sigma = 1.0\n",
    "patch_max_ord = 4\n",
    "ds_sigma = 0.6\n",
    "ds_max_ord = 0\n",
    "\n",
    "fovea = make_model(\n",
    "        n_fixations=n_fixations,\n",
    "        n_classes=100,  # Use full 100 classes\n",
    "        radius=radius,\n",
    "        block_sigma=block_sigma,\n",
    "        block_max_ord=block_max_ord,\n",
    "        patch_sigma=patch_sigma,\n",
    "        patch_max_ord=patch_max_ord,\n",
    "        ds_sigma=ds_sigma,\n",
    "        ds_max_ord=ds_max_ord\n",
    "    )\n",
    "fovea.load_state_dict(torch.load('best_model_foveated.pth')['model_state_dict'])"
   ]
  },
  {
   "cell_type": "code",
   "execution_count": null,
   "id": "a58f3910",
   "metadata": {},
   "outputs": [],
   "source": [
    "import timeit\n",
    "\n",
    "\n",
    "def fovea_run():\n",
    "    fovea.eval()\n",
    "    with torch.no_grad():\n",
    "        start = timeit.default_timer()\n",
    "        output = fovea(images)\n",
    "        end = timeit.default_timer()\n",
    "        print(f\"Foveated inference time: {end - start:.4f} seconds\")\n",
    "        _, predicted = torch.max(output, 1)\n",
    "        accuracy = (predicted == labels).sum().item() / len(labels)\n",
    "        print(f\"Foveated model accuracy: {accuracy:.2%}\")\n",
    "        print('Predicted:', ' '.join(f'{dataset.classes[predicted[j]]:5s}' for j in range(10)))\n",
    "\n",
    "def unfovea_run():\n",
    "    unfovea.eval()\n",
    "    with torch.no_grad():\n",
    "        start = timeit.default_timer()\n",
    "        output = unfovea(images)\n",
    "        end = timeit.default_timer()\n",
    "        print(f\"Unfoveated inference time: {end - start:.4f} seconds\")\n",
    "        _, predicted = torch.max(output, 1)\n",
    "        accuracy = (predicted == labels).sum().item() / len(labels)\n",
    "        print(f\"Unfoveated model accuracy: {accuracy:.2%}\")\n",
    "        print('Predicted:', ' '.join(f'{dataset.classes[predicted[j]]:5s}' for j in range(10)))"
   ]
  },
  {
   "cell_type": "code",
   "execution_count": null,
   "id": "abff6fab",
   "metadata": {},
   "outputs": [],
   "source": [
    "fovea_run()"
   ]
  },
  {
   "cell_type": "code",
   "execution_count": null,
   "id": "809d6874",
   "metadata": {},
   "outputs": [],
   "source": [
    "unfovea_run()"
   ]
  }
 ],
 "metadata": {
  "kernelspec": {
   "display_name": "Python 3",
   "language": "python",
   "name": "python3"
  },
  "language_info": {
   "codemirror_mode": {
    "name": "ipython",
    "version": 3
   },
   "file_extension": ".py",
   "mimetype": "text/x-python",
   "name": "python",
   "nbconvert_exporter": "python",
   "pygments_lexer": "ipython3",
   "version": "3.6.9"
  }
 },
 "nbformat": 4,
 "nbformat_minor": 5
}
