{
 "cells": [
  {
   "cell_type": "code",
   "execution_count": 1,
   "id": "0f251aa6-3975-4b44-ae7b-e16f71c0c48d",
   "metadata": {},
   "outputs": [],
   "source": [
    "from torchvision import datasets, transforms\n",
    "from torchvision import models\n",
    "import torch\n",
    "import torch.nn as nn\n",
    "import torch.optim as optim\n",
    "from torch.utils.data import ConcatDataset, Subset, DataLoader\n",
    "from FovConvNeXt.models import make_model\n",
    "import numpy as np\n",
    "import os"
   ]
  },
  {
   "cell_type": "code",
   "execution_count": 3,
   "id": "d6b3798b-ae83-4272-8362-64712cecd40d",
   "metadata": {},
   "outputs": [
    {
     "name": "stdout",
     "output_type": "stream",
     "text": [
      "12544\n",
      "Fovea Resolution equivalent to 223x223 pixel image\n",
      "784\n",
      "Fovea Resolution equivalent to 55x55 pixel image\n",
      "196\n",
      "Fovea Resolution equivalent to 27x27 pixel image\n",
      "49\n",
      "Fovea Resolution equivalent to 14x14 pixel image\n",
      "49\n",
      "Fovea Resolution equivalent to 14x14 pixel image\n"
     ]
    }
   ],
   "source": [
    "# Model parameters\n",
    "n_fixations = 1\n",
    "radius = 0.4\n",
    "block_sigma = 0.8\n",
    "block_max_ord = 4\n",
    "patch_sigma = 1.0\n",
    "patch_max_ord = 4\n",
    "ds_sigma = 0.6\n",
    "ds_max_ord = 0\n",
    "\n",
    "model = make_model(\n",
    "        n_fixations=n_fixations,\n",
    "        n_classes=100,  # Use full 100 classes\n",
    "        radius=radius,\n",
    "        block_sigma=block_sigma,\n",
    "        block_max_ord=block_max_ord,\n",
    "        patch_sigma=patch_sigma,\n",
    "        patch_max_ord=patch_max_ord,\n",
    "        ds_sigma=ds_sigma,\n",
    "        ds_max_ord=ds_max_ord\n",
    "    )"
   ]
  },
  {
   "cell_type": "code",
   "execution_count": 11,
   "id": "8495b417-c7fb-42a2-a1aa-b907fcab89e7",
   "metadata": {},
   "outputs": [],
   "source": [
    "import glob\n",
    "def load_latest_checkpoint():\n",
    "    # Find all checkpoint files\n",
    "    checkpoint_files = glob.glob('3_checkpoint_epoch_*.pth')\n",
    "    if not checkpoint_files:\n",
    "        print(\"No checkpoint files found!\")\n",
    "        return None\n",
    "    \n",
    "    # Get the latest checkpoint based on epoch number\n",
    "    latest_checkpoint = max(checkpoint_files, key=lambda x: int(x.split('_')[-1].split('.')[0]))\n",
    "    print(f\"Loading checkpoint: {latest_checkpoint}\")\n",
    "    \n",
    "    # Load the checkpoint\n",
    "    checkpoint = torch.load(latest_checkpoint, map_location=torch.device('cpu'))\n",
    "    \n",
    "    # Print metrics\n",
    "    print(\"\\nModel Metrics:\")\n",
    "    print(f\"Epoch: {checkpoint['epoch']}\")\n",
    "    print(f\"Train Loss: {checkpoint['train_loss']:.4f}\")\n",
    "    # print(f\"Validation Loss: {checkpoint['val_loss']:.4f}\")\n",
    "    print(f\"Train Accuracy: {checkpoint['train_acc']:.2f}%\")\n",
    "    # print(f\"Validation Accuracy: {checkpoint['val_acc']:.2f}%\")\n",
    "    \n",
    "    return checkpoint"
   ]
  },
  {
   "cell_type": "code",
   "execution_count": 12,
   "id": "56d93e8d-af0b-4e62-9d3d-fb91a7233e2e",
   "metadata": {},
   "outputs": [
    {
     "name": "stdout",
     "output_type": "stream",
     "text": [
      "Loading checkpoint: 3_checkpoint_epoch_170.pth\n",
      "\n",
      "Model Metrics:\n",
      "Epoch: 170\n",
      "Train Loss: 1.3929\n",
      "Train Accuracy: 82.33%\n"
     ]
    },
    {
     "data": {
      "text/plain": [
       "<All keys matched successfully>"
      ]
     },
     "execution_count": 12,
     "metadata": {},
     "output_type": "execute_result"
    }
   ],
   "source": [
    "checkpoint = load_latest_checkpoint()\n",
    "model.load_state_dict(checkpoint['model_state_dict'])"
   ]
  },
  {
   "cell_type": "code",
   "execution_count": 15,
   "id": "6a91a5ac-2bd1-427b-b6db-70f68080ea2a",
   "metadata": {},
   "outputs": [
    {
     "name": "stdout",
     "output_type": "stream",
     "text": [
      "Total number of parameters: 3434141\n"
     ]
    }
   ],
   "source": [
    "# Calculate total number of parameters\n",
    "total_params = sum(param.numel() for param in model.parameters() if param.requires_grad )\n",
    "print(f\"Total number of parameters: {total_params}\")"
   ]
  },
  {
   "cell_type": "code",
   "execution_count": null,
   "id": "78521f70-a1d9-4af7-b773-feb89e8c47a3",
   "metadata": {},
   "outputs": [],
   "source": []
  }
 ],
 "metadata": {
  "kernelspec": {
   "display_name": "EA_ready_kernel",
   "language": "python",
   "name": "ea_ready_kernel"
  },
  "language_info": {
   "codemirror_mode": {
    "name": "ipython",
    "version": 3
   },
   "file_extension": ".py",
   "mimetype": "text/x-python",
   "name": "python",
   "nbconvert_exporter": "python",
   "pygments_lexer": "ipython3",
   "version": "3.11.11"
  }
 },
 "nbformat": 4,
 "nbformat_minor": 5
}
